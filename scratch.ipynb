{
 "cells": [
  {
   "cell_type": "code",
   "execution_count": 21,
   "metadata": {},
   "outputs": [],
   "source": [
    "# just wannt test out plotting ticker, orderbook, and ohlcv data\n",
    "import ccxt\n",
    "import pandas as pd\n",
    "import mplfinance as mpf\n",
    "import matplotlib.pyplot as plt\n",
    "import seaborn as sns"
   ]
  },
  {
   "cell_type": "code",
   "execution_count": 2,
   "metadata": {},
   "outputs": [],
   "source": [
    "kc = ccxt.kucoin()\n",
    "kc.load_markets()\n",
    "\n",
    "BTC = \"BTC/USDT\"\n",
    "ticker_data = kc.fetch_ticker(BTC)\n",
    "orderbook_data = kc.fetch_order_book(BTC)\n",
    "ohlcv_data = kc.fetch_ohlcv(BTC)"
   ]
  },
  {
   "cell_type": "code",
   "execution_count": 11,
   "metadata": {},
   "outputs": [
    {
     "data": {
      "text/html": [
       "<div>\n",
       "<style scoped>\n",
       "    .dataframe tbody tr th:only-of-type {\n",
       "        vertical-align: middle;\n",
       "    }\n",
       "\n",
       "    .dataframe tbody tr th {\n",
       "        vertical-align: top;\n",
       "    }\n",
       "\n",
       "    .dataframe thead th {\n",
       "        text-align: right;\n",
       "    }\n",
       "</style>\n",
       "<table border=\"1\" class=\"dataframe\">\n",
       "  <thead>\n",
       "    <tr style=\"text-align: right;\">\n",
       "      <th></th>\n",
       "      <th>symbol</th>\n",
       "      <th>timestamp</th>\n",
       "      <th>datetime</th>\n",
       "      <th>high</th>\n",
       "      <th>low</th>\n",
       "      <th>bid</th>\n",
       "      <th>bidVolume</th>\n",
       "      <th>ask</th>\n",
       "      <th>askVolume</th>\n",
       "      <th>vwap</th>\n",
       "      <th>open</th>\n",
       "      <th>close</th>\n",
       "      <th>last</th>\n",
       "      <th>previousClose</th>\n",
       "      <th>change</th>\n",
       "      <th>percentage</th>\n",
       "      <th>average</th>\n",
       "      <th>baseVolume</th>\n",
       "      <th>quoteVolume</th>\n",
       "    </tr>\n",
       "  </thead>\n",
       "  <tbody>\n",
       "    <tr>\n",
       "      <th>0</th>\n",
       "      <td>BTC/USDT</td>\n",
       "      <td>1690333514195</td>\n",
       "      <td>2023-07-26T01:05:14.195Z</td>\n",
       "      <td>29372.7</td>\n",
       "      <td>29050.5</td>\n",
       "      <td>29172.4</td>\n",
       "      <td>None</td>\n",
       "      <td>29172.5</td>\n",
       "      <td>None</td>\n",
       "      <td>29198.742678</td>\n",
       "      <td>29102.3</td>\n",
       "      <td>29172.5</td>\n",
       "      <td>29172.5</td>\n",
       "      <td>None</td>\n",
       "      <td>70.2</td>\n",
       "      <td>0.24</td>\n",
       "      <td>None</td>\n",
       "      <td>1598.175671</td>\n",
       "      <td>4.666472e+07</td>\n",
       "    </tr>\n",
       "  </tbody>\n",
       "</table>\n",
       "</div>"
      ],
      "text/plain": [
       "     symbol      timestamp                  datetime     high      low  \\\n",
       "0  BTC/USDT  1690333514195  2023-07-26T01:05:14.195Z  29372.7  29050.5   \n",
       "\n",
       "       bid bidVolume      ask askVolume          vwap     open    close  \\\n",
       "0  29172.4      None  29172.5      None  29198.742678  29102.3  29172.5   \n",
       "\n",
       "      last previousClose  change  percentage average   baseVolume  \\\n",
       "0  29172.5          None    70.2        0.24    None  1598.175671   \n",
       "\n",
       "    quoteVolume  \n",
       "0  4.666472e+07  "
      ]
     },
     "execution_count": 11,
     "metadata": {},
     "output_type": "execute_result"
    }
   ],
   "source": [
    "td = ticker_data.copy()\n",
    "td.pop(\"info\")\n",
    "# create a df with a single row with the ticker data (except for info\n",
    "# and timestamp\n",
    "ticker_df = pd.DataFrame.from_dict([td])\n",
    "# ticker_df = ticker_df.T\n",
    "ticker_df"
   ]
  },
  {
   "cell_type": "code",
   "execution_count": 35,
   "metadata": {},
   "outputs": [],
   "source": [
    "# plot the orderbook data\n",
    "ob_bids = orderbook_data['bids'][:10]\n",
    "ob_asks = orderbook_data['asks'][:10]"
   ]
  },
  {
   "cell_type": "code",
   "execution_count": 36,
   "metadata": {},
   "outputs": [
    {
     "data": {
      "text/html": [
       "<div>\n",
       "<style scoped>\n",
       "    .dataframe tbody tr th:only-of-type {\n",
       "        vertical-align: middle;\n",
       "    }\n",
       "\n",
       "    .dataframe tbody tr th {\n",
       "        vertical-align: top;\n",
       "    }\n",
       "\n",
       "    .dataframe thead th {\n",
       "        text-align: right;\n",
       "    }\n",
       "</style>\n",
       "<table border=\"1\" class=\"dataframe\">\n",
       "  <thead>\n",
       "    <tr style=\"text-align: right;\">\n",
       "      <th></th>\n",
       "      <th>price</th>\n",
       "      <th>volume</th>\n",
       "      <th>side</th>\n",
       "    </tr>\n",
       "  </thead>\n",
       "  <tbody>\n",
       "    <tr>\n",
       "      <th>0</th>\n",
       "      <td>29172.4</td>\n",
       "      <td>0.002837</td>\n",
       "      <td>bids</td>\n",
       "    </tr>\n",
       "    <tr>\n",
       "      <th>1</th>\n",
       "      <td>29172.3</td>\n",
       "      <td>0.002837</td>\n",
       "      <td>bids</td>\n",
       "    </tr>\n",
       "    <tr>\n",
       "      <th>2</th>\n",
       "      <td>29172.2</td>\n",
       "      <td>0.002837</td>\n",
       "      <td>bids</td>\n",
       "    </tr>\n",
       "    <tr>\n",
       "      <th>3</th>\n",
       "      <td>29172.0</td>\n",
       "      <td>0.005675</td>\n",
       "      <td>bids</td>\n",
       "    </tr>\n",
       "    <tr>\n",
       "      <th>4</th>\n",
       "      <td>29171.6</td>\n",
       "      <td>0.011349</td>\n",
       "      <td>bids</td>\n",
       "    </tr>\n",
       "    <tr>\n",
       "      <th>5</th>\n",
       "      <td>29170.8</td>\n",
       "      <td>0.022699</td>\n",
       "      <td>bids</td>\n",
       "    </tr>\n",
       "    <tr>\n",
       "      <th>6</th>\n",
       "      <td>29169.7</td>\n",
       "      <td>0.001216</td>\n",
       "      <td>bids</td>\n",
       "    </tr>\n",
       "    <tr>\n",
       "      <th>7</th>\n",
       "      <td>29169.2</td>\n",
       "      <td>0.045397</td>\n",
       "      <td>bids</td>\n",
       "    </tr>\n",
       "    <tr>\n",
       "      <th>8</th>\n",
       "      <td>29169.0</td>\n",
       "      <td>0.205725</td>\n",
       "      <td>bids</td>\n",
       "    </tr>\n",
       "    <tr>\n",
       "      <th>9</th>\n",
       "      <td>29168.1</td>\n",
       "      <td>0.018525</td>\n",
       "      <td>bids</td>\n",
       "    </tr>\n",
       "    <tr>\n",
       "      <th>0</th>\n",
       "      <td>29172.5</td>\n",
       "      <td>6.066516</td>\n",
       "      <td>asks</td>\n",
       "    </tr>\n",
       "    <tr>\n",
       "      <th>1</th>\n",
       "      <td>29172.6</td>\n",
       "      <td>1.900099</td>\n",
       "      <td>asks</td>\n",
       "    </tr>\n",
       "    <tr>\n",
       "      <th>2</th>\n",
       "      <td>29172.7</td>\n",
       "      <td>0.100659</td>\n",
       "      <td>asks</td>\n",
       "    </tr>\n",
       "    <tr>\n",
       "      <th>3</th>\n",
       "      <td>29172.8</td>\n",
       "      <td>0.196716</td>\n",
       "      <td>asks</td>\n",
       "    </tr>\n",
       "    <tr>\n",
       "      <th>4</th>\n",
       "      <td>29172.9</td>\n",
       "      <td>1.497110</td>\n",
       "      <td>asks</td>\n",
       "    </tr>\n",
       "    <tr>\n",
       "      <th>5</th>\n",
       "      <td>29173.3</td>\n",
       "      <td>0.350918</td>\n",
       "      <td>asks</td>\n",
       "    </tr>\n",
       "    <tr>\n",
       "      <th>6</th>\n",
       "      <td>29173.4</td>\n",
       "      <td>0.026918</td>\n",
       "      <td>asks</td>\n",
       "    </tr>\n",
       "    <tr>\n",
       "      <th>7</th>\n",
       "      <td>29173.5</td>\n",
       "      <td>0.514233</td>\n",
       "      <td>asks</td>\n",
       "    </tr>\n",
       "    <tr>\n",
       "      <th>8</th>\n",
       "      <td>29173.7</td>\n",
       "      <td>0.017195</td>\n",
       "      <td>asks</td>\n",
       "    </tr>\n",
       "    <tr>\n",
       "      <th>9</th>\n",
       "      <td>29173.9</td>\n",
       "      <td>0.285976</td>\n",
       "      <td>asks</td>\n",
       "    </tr>\n",
       "  </tbody>\n",
       "</table>\n",
       "</div>"
      ],
      "text/plain": [
       "     price    volume  side\n",
       "0  29172.4  0.002837  bids\n",
       "1  29172.3  0.002837  bids\n",
       "2  29172.2  0.002837  bids\n",
       "3  29172.0  0.005675  bids\n",
       "4  29171.6  0.011349  bids\n",
       "5  29170.8  0.022699  bids\n",
       "6  29169.7  0.001216  bids\n",
       "7  29169.2  0.045397  bids\n",
       "8  29169.0  0.205725  bids\n",
       "9  29168.1  0.018525  bids\n",
       "0  29172.5  6.066516  asks\n",
       "1  29172.6  1.900099  asks\n",
       "2  29172.7  0.100659  asks\n",
       "3  29172.8  0.196716  asks\n",
       "4  29172.9  1.497110  asks\n",
       "5  29173.3  0.350918  asks\n",
       "6  29173.4  0.026918  asks\n",
       "7  29173.5  0.514233  asks\n",
       "8  29173.7  0.017195  asks\n",
       "9  29173.9  0.285976  asks"
      ]
     },
     "execution_count": 36,
     "metadata": {},
     "output_type": "execute_result"
    }
   ],
   "source": [
    "bids_df = pd.DataFrame(ob_bids, columns=['price', 'volume'])\n",
    "bids_df[\"side\"] = \"bids\"\n",
    "asks_df = pd.DataFrame(ob_asks, columns=['price', 'volume'])\n",
    "asks_df[\"side\"] = \"asks\"\n",
    "\n",
    "orderbook_df = pd.concat([bids_df, asks_df])\n",
    "orderbook_df"
   ]
  },
  {
   "cell_type": "code",
   "execution_count": 37,
   "metadata": {},
   "outputs": [
    {
     "data": {
      "text/plain": [
       "Text(0, 0.5, 'Quantity')"
      ]
     },
     "execution_count": 37,
     "metadata": {},
     "output_type": "execute_result"
    },
    {
     "data": {
      "image/png": "[encoded data removed]",
      "text/plain": [
       "<Figure size 640x480 with 1 Axes>"
      ]
     },
     "metadata": {},
     "output_type": "display_data"
    }
   ],
   "source": [
    "fig, ax = plt.subplots()\n",
    "ax.set_title(\"Orderbook\")\n",
    "sns.scatterplot(x=\"price\", y=\"volume\",\n",
    "                hue=\"side\", data=orderbook_df, ax=ax, palette=\"Set2\")\n",
    "ax.set_xlabel(\"Price\")\n",
    "ax.set_ylabel(\"Quantity\")"
   ]
  },
  {
   "cell_type": "code",
   "execution_count": 38,
   "metadata": {},
   "outputs": [
    {
     "data": {
      "text/plain": [
       "<Axes: title={'center': 'Orderbook'}, xlabel='price', ylabel='Count'>"
      ]
     },
     "execution_count": 38,
     "metadata": {},
     "output_type": "execute_result"
    },
    {
     "data": {
      "image/png": "[encoded data removed]",
      "text/plain": [
       "<Figure size 640x480 with 1 Axes>"
      ]
     },
     "metadata": {},
     "output_type": "display_data"
    }
   ],
   "source": [
    "fig, ax = plt.subplots()\n",
    "ax.set_title(\"Orderbook\")\n",
    "sns.histplot(x=\"price\", hue=\"side\", weights=\"volume\",\n",
    "             binwidth=10, data=orderbook_df, ax=ax, palette=\"Set2\")"
   ]
  },
  {
   "cell_type": "code",
   "execution_count": 39,
   "metadata": {},
   "outputs": [
    {
     "data": {
      "text/plain": [
       "<Axes: title={'center': 'Orderbook'}, xlabel='price', ylabel='Count'>"
      ]
     },
     "execution_count": 39,
     "metadata": {},
     "output_type": "execute_result"
    },
    {
     "data": {
      "image/png": "[encoded data removed]",
      "text/plain": [
       "<Figure size 640x480 with 1 Axes>"
      ]
     },
     "metadata": {},
     "output_type": "display_data"
    }
   ],
   "source": [
    "fig, ax = plt.subplots()\n",
    "ax.set_title(\"Orderbook\")\n",
    "sns.ecdfplot(x=\"price\", weights=\"volume\", stat=\"count\",\n",
    "             complementary=True, data=orderbook_df.query(\"side=='bids'\"), \n",
    "             ax=ax, color=\"green\")\n",
    "sns.ecdfplot(x=\"price\", weights=\"volume\", stat=\"count\",\n",
    "             data=orderbook_df.query(\"side=='asks'\"),\n",
    "                ax=ax, color=\"red\")\n"
   ]
  },
  {
   "cell_type": "code",
   "execution_count": null,
   "metadata": {},
   "outputs": [],
   "source": []
  }
 ],
 "metadata": {
  "kernelspec": {
   "display_name": "kobot",
   "language": "python",
   "name": "python3"
  },
  "language_info": {
   "codemirror_mode": {
    "name": "ipython",
    "version": 3
   },
   "file_extension": ".py",
   "mimetype": "text/x-python",
   "name": "python",
   "nbconvert_exporter": "python",
   "pygments_lexer": "ipython3",
   "version": "3.10.11"
  },
  "orig_nbformat": 4
 },
 "nbformat": 4,
 "nbformat_minor": 2
}

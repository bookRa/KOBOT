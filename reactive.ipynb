{
 "cells": [
  {
   "attachments": {},
   "cell_type": "markdown",
   "metadata": {},
   "source": [
    "# Hello Observable World!"
   ]
  },
  {
   "cell_type": "code",
   "execution_count": 5,
   "metadata": {},
   "outputs": [],
   "source": [
    "import reactivex\n",
    "from reactivex import create, operators as ops"
   ]
  },
  {
   "cell_type": "code",
   "execution_count": 6,
   "metadata": {},
   "outputs": [
    {
     "name": "stdout",
     "output_type": "stream",
     "text": [
      "Received Alpha\n",
      "Received Beta\n",
      "Received Gamma\n",
      "Received Delta\n",
      "Received Epsilon\n",
      "Done!\n"
     ]
    },
    {
     "data": {
      "text/plain": [
       "<reactivex.disposable.disposable.Disposable at 0x1034a9b40>"
      ]
     },
     "execution_count": 6,
     "metadata": {},
     "output_type": "execute_result"
    }
   ],
   "source": [
    "def my_first_observable(observer, scheduler):\n",
    "    observer.on_next(\"Alpha\")\n",
    "    observer.on_next(\"Beta\")\n",
    "    observer.on_next(\"Gamma\")\n",
    "    observer.on_next(\"Delta\")\n",
    "    observer.on_next(\"Epsilon\")\n",
    "    observer.on_completed()\n",
    "    observer.on_error(Exception(\"ma bad\"))\n",
    "\n",
    "source = create(my_first_observable)\n",
    "\n",
    "source.subscribe(\n",
    "    on_next=lambda value: print(\"Received {0}\".format(value)),\n",
    "    on_error=lambda error: print(\"Error Occurred: {0}\".format(error)),\n",
    "    on_completed=lambda: print(\"Done!\"),\n",
    ")\n"
   ]
  },
  {
   "cell_type": "code",
   "execution_count": null,
   "metadata": {},
   "outputs": [],
   "source": []
  },
  {
   "cell_type": "code",
   "execution_count": null,
   "metadata": {},
   "outputs": [],
   "source": []
  }
 ],
 "metadata": {
  "kernelspec": {
   "display_name": "kobot",
   "language": "python",
   "name": "python3"
  },
  "language_info": {
   "codemirror_mode": {
    "name": "ipython",
    "version": 3
   },
   "file_extension": ".py",
   "mimetype": "text/x-python",
   "name": "python",
   "nbconvert_exporter": "python",
   "pygments_lexer": "ipython3",
   "version": "3.10.11"
  },
  "orig_nbformat": 4
 },
 "nbformat": 4,
 "nbformat_minor": 2
}

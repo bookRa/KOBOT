{
 "cells": [
  {
   "attachments": {},
   "cell_type": "markdown",
   "metadata": {},
   "source": [
    "# Hello Observable World!"
   ]
  },
  {
   "attachments": {},
   "cell_type": "markdown",
   "metadata": {},
   "source": [
    "https://rxpy.readthedocs.io/en/latest/get_started.html"
   ]
  },
  {
   "cell_type": "code",
   "execution_count": 7,
   "metadata": {},
   "outputs": [],
   "source": [
    "import reactivex\n",
    "from reactivex import of, create, operators as ops"
   ]
  },
  {
   "cell_type": "code",
   "execution_count": 9,
   "metadata": {},
   "outputs": [
    {
     "name": "stdout",
     "output_type": "stream",
     "text": [
      "Received Alpha\n",
      "Received Beta\n",
      "Received Gamma\n",
      "Received Delta\n",
      "Received Epsilon\n",
      "Done!\n"
     ]
    },
    {
     "data": {
      "text/plain": [
       "<reactivex.disposable.disposable.Disposable at 0x1034abd30>"
      ]
     },
     "execution_count": 9,
     "metadata": {},
     "output_type": "execute_result"
    }
   ],
   "source": [
    "def my_first_observable(observer, scheduler):\n",
    "    observer.on_next(\"Alpha\")\n",
    "    observer.on_next(\"Beta\")\n",
    "    observer.on_next(\"Gamma\")\n",
    "    observer.on_next(\"Delta\")\n",
    "    observer.on_next(\"Epsilon\")\n",
    "    observer.on_completed()\n",
    "    observer.on_error(Exception(\"ma bad\"))\n",
    "\n",
    "source = create(my_first_observable)\n",
    "\n",
    "source.subscribe(\n",
    "    on_next=lambda value: print(\"Received {0}\".format(value)),\n",
    "    on_error=lambda error: print(\"Error Occurred: {0}\".format(error)),\n",
    "    on_completed=lambda: print(\"Done!\"),\n",
    ")"
   ]
  },
  {
   "attachments": {},
   "cell_type": "markdown",
   "metadata": {},
   "source": [
    "## OK now it's time to bring in some market data\n",
    "### _ccxt_ is a sweet package for doing just that"
   ]
  },
  {
   "cell_type": "code",
   "execution_count": 10,
   "metadata": {},
   "outputs": [
    {
     "name": "stdout",
     "output_type": "stream",
     "text": [
      "Received BTC/USD\n",
      "Received ETH/USD\n",
      "Received ADA/USD\n",
      "Received XRP/USD\n",
      "Received LTC/USD\n"
     ]
    },
    {
     "data": {
      "text/plain": [
       "<reactivex.disposable.disposable.Disposable at 0x106ebb340>"
      ]
     },
     "execution_count": 10,
     "metadata": {},
     "output_type": "execute_result"
    }
   ],
   "source": [
    "import ccxt\n",
    "exchange = ccxt.kucoin()\n",
    "exchange.load_markets()\n",
    "\n",
    "COINS_TO_WATCH = [\"BTC/USD\", \"ETH/USD\", \"ADA/USD\", \"XRP/USD\", \"LTC/USD\"]\n",
    "\n",
    "source = of(*COINS_TO_WATCH)\n",
    "source.subscribe(\n",
    "    on_next=lambda value: print(\"Received {0}\".format(value)),\n",
    ")\n",
    "# .pipe(lambda x: exchange.fetch_ticker(x))"
   ]
  },
  {
   "cell_type": "markdown",
   "metadata": {},
   "source": []
  },
  {
   "cell_type": "code",
   "execution_count": null,
   "metadata": {},
   "outputs": [],
   "source": []
  }
 ],
 "metadata": {
  "kernelspec": {
   "display_name": "kobot",
   "language": "python",
   "name": "python3"
  },
  "language_info": {
   "codemirror_mode": {
    "name": "ipython",
    "version": 3
   },
   "file_extension": ".py",
   "mimetype": "text/x-python",
   "name": "python",
   "nbconvert_exporter": "python",
   "pygments_lexer": "ipython3",
   "version": "3.10.11"
  },
  "orig_nbformat": 4
 },
 "nbformat": 4,
 "nbformat_minor": 2
}

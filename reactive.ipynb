{
 "cells": [
  {
   "attachments": {},
   "cell_type": "markdown",
   "metadata": {},
   "source": [
    "# Hello Observable World!"
   ]
  },
  {
   "attachments": {},
   "cell_type": "markdown",
   "metadata": {},
   "source": [
    "https://rxpy.readthedocs.io/en/latest/get_started.html"
   ]
  },
  {
   "cell_type": "code",
   "execution_count": 7,
   "metadata": {},
   "outputs": [],
   "source": [
    "import reactivex\n",
    "from reactivex import of, create, operators as ops"
   ]
  },
  {
   "cell_type": "code",
   "execution_count": 9,
   "metadata": {},
   "outputs": [
    {
     "name": "stdout",
     "output_type": "stream",
     "text": [
      "Received Alpha\n",
      "Received Beta\n",
      "Received Gamma\n",
      "Received Delta\n",
      "Received Epsilon\n",
      "Done!\n"
     ]
    },
    {
     "data": {
      "text/plain": [
       "<reactivex.disposable.disposable.Disposable at 0x1034abd30>"
      ]
     },
     "execution_count": 9,
     "metadata": {},
     "output_type": "execute_result"
    }
   ],
   "source": [
    "def my_first_observable(observer, scheduler):\n",
    "    observer.on_next(\"Alpha\")\n",
    "    observer.on_next(\"Beta\")\n",
    "    observer.on_next(\"Gamma\")\n",
    "    observer.on_next(\"Delta\")\n",
    "    observer.on_next(\"Epsilon\")\n",
    "    observer.on_completed()\n",
    "    observer.on_error(Exception(\"ma bad\"))\n",
    "\n",
    "source = create(my_first_observable)\n",
    "\n",
    "source.subscribe(\n",
    "    on_next=lambda value: print(\"Received {0}\".format(value)),\n",
    "    on_error=lambda error: print(\"Error Occurred: {0}\".format(error)),\n",
    "    on_completed=lambda: print(\"Done!\"),\n",
    ")"
   ]
  },
  {
   "attachments": {},
   "cell_type": "markdown",
   "metadata": {},
   "source": [
    "## OK now it's time to bring in some market data\n",
    "### _ccxt_ is a sweet package for doing just that"
   ]
  },
  {
   "cell_type": "code",
   "execution_count": 5,
   "metadata": {},
   "outputs": [],
   "source": [
    "import ccxt\n",
    "from reactivex import of, operators as op\n",
    "\n",
    "exchange = ccxt.kucoin()\n",
    "exchange.load_markets()\n",
    "\n",
    "COINS_TO_WATCH = [\"BTC/USDT\", \"ETH/USDT\", \"ADA/USDT\", \"XRP/USDT\", \"LTC/USDT\"]\n",
    "\n",
    "def refresh_tickers():\n",
    "    source = of(*COINS_TO_WATCH)\n",
    "    composed = source.pipe(\n",
    "        op.map(lambda s: exchange.fetch_ticker(s)),\n",
    "    )\n",
    "    pairs = {}\n",
    "\n",
    "    def add_to_pairs(value):\n",
    "        pairs[value['symbol']] = value\n",
    "        print(f\"Received Value {value}!!\")\n",
    "        \n",
    "    composed.subscribe(\n",
    "        on_next=lambda value: add_to_pairs(value),\n",
    "        on_error=lambda error: print(f\"Error Occurred: {error}\"),\n",
    "        on_completed=lambda: print(\"Done!\"),\n",
    "    )\n",
    "    return pairs"
   ]
  },
  {
   "attachments": {},
   "cell_type": "markdown",
   "metadata": {},
   "source": [
    "### Sweet! So now we have to work each of those JSON bodies into a prompt for GPT to give us a breakdown of what's going on"
   ]
  },
  {
   "cell_type": "code",
   "execution_count": 31,
   "metadata": {},
   "outputs": [
    {
     "name": "stderr",
     "output_type": "stream",
     "text": [
      "Retrying langchain.llms.openai.completion_with_retry.<locals>._completion_with_retry in 4.0 seconds as it raised APIConnectionError: Error communicating with OpenAI: ('Connection aborted.', RemoteDisconnected('Remote end closed connection without response')).\n"
     ]
    },
    {
     "name": "stdout",
     "output_type": "stream",
     "text": [
      "\n",
      "\n",
      "The trading pair for ADA/USDT has seen some recent volatility, as the high for the pair was 0.3675 and the low was 0.359903. The last price for the pair was 0.364827, which is a 0.43% decrease from the open price of 0.36641. Based on the current market conditions, this could indicate a bearish trajectory for the pair. Market strategy should take into consideration the current volatility and focus on bearish strategies in order to maximize potential profits.\n"
     ]
    }
   ],
   "source": [
    "import os\n",
    "from dotenv import load_dotenv\n",
    "import json\n",
    "import yaml\n",
    "from langchain.llms import OpenAI\n",
    "from langchain.prompts import PromptTemplate\n",
    "\n",
    "\n",
    "load_dotenv()\n",
    "\n",
    "oai_org = \"org-VAzYa2yfTTttUMNvCBhluUKn\"\n",
    "oai_key = os.getenv(\"OPENAI_API_KEY\")\n",
    "\n",
    "gpt = OpenAI(temperature=0.9)\n",
    "market_prompt = (\"give a high-level human summary about the trajectory of the\"\n",
    "    + \" trading pair, as well as any more info you need to suggest a \"\n",
    "    + \"market strategy:\\n::::\\n {market_data}\")\n",
    "market_data = pairs[\"ADA/USDT\"]\n",
    "market_prompt += json.dumps(market_data)\n",
    "print(gpt(market_prompt))\n",
    "# prompt = PromptTemplate(\n",
    "#     input_variables=['product'],\n",
    "#     template=\"WHat is a good name for a company that makes {}?\"\n",
    "# )\n",
    "# foo = prompt.format(product=\"socks\")\n",
    "# print(foo)\n",
    "# gpt = OpenAI(openai_api_key=oai_key, openai_organization=oai_org, temperature=0.9)\n",
    "# text = \"What would be a good company name for a company that makes colorful socks?\"\n",
    "# print(gpt(text))"
   ]
  },
  {
   "attachments": {},
   "cell_type": "markdown",
   "metadata": {},
   "source": [
    "## THis is awesome, now let's try to apply the _PromptTemplate_ Module to organize all these prompts"
   ]
  },
  {
   "cell_type": "code",
   "execution_count": 1,
   "metadata": {},
   "outputs": [],
   "source": [
    "from langchain.prompts import PromptTemplate\n",
    "from langchain.chains import LLMChain\n",
    "from langchain.llms import OpenAI\n",
    "\n",
    "gpt = OpenAI(temperature=0.75)\n",
    "prompt_txt = (\n",
    "    \"give a high-level human summary about the trajectory of the\" +\n",
    "    \" trading pair, as well as any more info you need to suggest a \" +\n",
    "    \"market strategy:\\n::::\\n {market_data}\")\n",
    "\n",
    "lvl_1_market_prompt = PromptTemplate(\n",
    "    input_variables=['market_data'],\n",
    "    template=prompt_txt\n",
    ")\n",
    "\n",
    "chain = LLMChain(llm = gpt, prompt=lvl_1_market_prompt)\n"
   ]
  },
  {
   "attachments": {},
   "cell_type": "markdown",
   "metadata": {},
   "source": [
    "__And now the secret sauce: composing all the tickers together!__"
   ]
  },
  {
   "cell_type": "code",
   "execution_count": 7,
   "metadata": {},
   "outputs": [
    {
     "name": "stdout",
     "output_type": "stream",
     "text": [
      "Received Value {'symbol': 'BTC/USDT', 'timestamp': 1683690782219, 'datetime': '2023-05-10T03:53:02.219Z', 'high': 27844.0, 'low': 27353.0, 'bid': 27684.2, 'bidVolume': None, 'ask': 27684.3, 'askVolume': None, 'vwap': 27600.37972949078, 'open': 27599.3, 'close': 27684.2, 'last': 27684.2, 'previousClose': None, 'change': 84.9, 'percentage': 0.3, 'average': 27571.00118449, 'baseVolume': 2803.3630943, 'quoteVolume': 77373885.92232028, 'info': {'time': 1683690782219, 'symbol': 'BTC-USDT', 'buy': '27684.2', 'sell': '27684.3', 'changeRate': '0.003', 'changePrice': '84.9', 'high': '27844', 'low': '27353', 'vol': '2803.3630943', 'volValue': '77373885.922320277', 'last': '27684.2', 'averagePrice': '27571.00118449', 'takerFeeRate': '0.001', 'makerFeeRate': '0.001', 'takerCoefficient': '1', 'makerCoefficient': '1'}}!!\n",
      "Received Value {'symbol': 'ETH/USDT', 'timestamp': 1683690782299, 'datetime': '2023-05-10T03:53:02.299Z', 'high': 1861.9, 'low': 1831.2, 'bid': 1843.9, 'bidVolume': None, 'ask': 1843.91, 'askVolume': None, 'vwap': 1844.9604718836667, 'open': 1843.48, 'close': 1844.07, 'last': 1844.07, 'previousClose': None, 'change': 0.59, 'percentage': 0.03, 'average': 1839.93417619, 'baseVolume': 16918.7582843, 'quoteVolume': 31214440.267887823, 'info': {'time': 1683690782299, 'symbol': 'ETH-USDT', 'buy': '1843.9', 'sell': '1843.91', 'changeRate': '0.0003', 'changePrice': '0.59', 'high': '1861.9', 'low': '1831.2', 'vol': '16918.7582843', 'volValue': '31214440.267887824', 'last': '1844.07', 'averagePrice': '1839.93417619', 'takerFeeRate': '0.001', 'makerFeeRate': '0.001', 'takerCoefficient': '1', 'makerCoefficient': '1'}}!!\n",
      "Received Value {'symbol': 'ADA/USDT', 'timestamp': 1683690782008, 'datetime': '2023-05-10T03:53:02.008Z', 'high': 0.3675, 'low': 0.359903, 'bid': 0.364381, 'bidVolume': None, 'ask': 0.364396, 'askVolume': None, 'vwap': 0.36358679667193106, 'open': 0.364065, 'close': 0.364469, 'last': 0.364469, 'previousClose': None, 'change': 0.000404, 'percentage': 0.11, 'average': 0.36324047, 'baseVolume': 8905672.961, 'quoteVolume': 3237985.1040978213, 'info': {'time': 1683690782008, 'symbol': 'ADA-USDT', 'buy': '0.364381', 'sell': '0.364396', 'changeRate': '0.0011', 'changePrice': '0.000404', 'high': '0.3675', 'low': '0.359903', 'vol': '8905672.961', 'volValue': '3237985.1040978211', 'last': '0.364469', 'averagePrice': '0.36324047', 'takerFeeRate': '0.001', 'makerFeeRate': '0.001', 'takerCoefficient': '1', 'makerCoefficient': '1'}}!!\n",
      "Received Value {'symbol': 'XRP/USDT', 'timestamp': 1683690782225, 'datetime': '2023-05-10T03:53:02.225Z', 'high': 0.43381, 'low': 0.42036, 'bid': 0.42974, 'bidVolume': None, 'ask': 0.42975, 'askVolume': None, 'vwap': 0.4258427872533333, 'open': 0.42317, 'close': 0.42974, 'last': 0.42974, 'previousClose': None, 'change': 0.00657, 'percentage': 1.55, 'average': 0.42321673, 'baseVolume': 33164224.7882, 'quoteVolume': 14122745.920903176, 'info': {'time': 1683690782225, 'symbol': 'XRP-USDT', 'buy': '0.42974', 'sell': '0.42975', 'changeRate': '0.0155', 'changePrice': '0.00657', 'high': '0.43381', 'low': '0.42036', 'vol': '33164224.7882', 'volValue': '14122745.920903176', 'last': '0.42974', 'averagePrice': '0.42321673', 'takerFeeRate': '0.001', 'makerFeeRate': '0.001', 'takerCoefficient': '1', 'makerCoefficient': '1'}}!!\n",
      "Received Value {'symbol': 'LTC/USDT', 'timestamp': 1683690782211, 'datetime': '2023-05-10T03:53:02.211Z', 'high': 80.981, 'low': 77.641, 'bid': 79.825, 'bidVolume': None, 'ask': 79.826, 'askVolume': None, 'vwap': 79.15979060671012, 'open': 78.037, 'close': 79.846, 'last': 79.846, 'previousClose': None, 'change': 1.809, 'percentage': 2.31, 'average': 78.21943827, 'baseVolume': 74422.317031, 'quoteVolume': 5891255.032640156, 'info': {'time': 1683690782211, 'symbol': 'LTC-USDT', 'buy': '79.825', 'sell': '79.826', 'changeRate': '0.0231', 'changePrice': '1.809', 'high': '80.981', 'low': '77.641', 'vol': '74422.317031', 'volValue': '5891255.032640156', 'last': '79.846', 'averagePrice': '78.21943827', 'takerFeeRate': '0.001', 'makerFeeRate': '0.001', 'takerCoefficient': '1', 'makerCoefficient': '1'}}!!\n",
      "Done!\n",
      "BTC/USDT: \n",
      "\n",
      "The trading pair BTC/USDT has seen an increase of 0.3% over the past day, with the price rising from 27599.3 to 27684.2. The highest price of the day was 27844.0 and the lowest was 27353.0. The total volume of trading was 2803.3630943 and the total value of trading was 77373885.92232028. Based on this information, it is likely that BTC/USDT is in an upward trend and traders should look for buying opportunities.\n",
      "ETH/USDT: \n",
      "\n",
      "The trading pair ETH/USDT has been steadily rising in recent weeks, with its high of 1861.9, low of 1831.2, and close of 1844.07. There has been an increase of 0.59 in the price and 0.03 in the percentage. The volume of trading has also been high, with a base volume of 16918.7582843 and a quote volume of 31214440.267887823. Based on this information, it appears that the market for ETH/USDT is bullish and could be a good opportunity for traders. As such, a market strategy that takes into account the current market conditions and the potential for future growth could be a profitable trading strategy.\n",
      "ADA/USDT: \n",
      "\n",
      "The ADA/USDT trading pair has seen a steady rise in price over the past few months, with the high being 0.3675 and the low being 0.359903. The last price was 0.364469, which is 0.000404 higher than the previous close, representing a 0.11% increase. The volume of the pair is 8905672.961 and the quote volume is 3237985.1040978213.\n",
      "\n",
      "Based on the current trajectory, it may be wise to explore strategies such as buy-and-hold or trend trading. It is important to keep in mind that the market is unpredictable and to only enter trades with funds that you are willing to lose.\n",
      "XRP/USDT: \n",
      "\n",
      "The XRP/USDT trading pair has been on an upward trajectory since the start of the year, with the high reaching 0.43381 and the low at 0.42036. The current bid and ask prices are 0.42974 and 0.42975, respectively. The trading pair has a percentage change of 1.55 and a base volume of 33164224.7882. Based on this information, it appears that the XRP/USDT pair is a good option for traders looking for a good return on their investment. As such, it would be wise to invest in this pair and take advantage of the current market conditions.\n",
      "LTC/USDT: \n",
      "\n",
      "The trading pair of LTC/USDT has been trading in a generally upward trajectory. The high price for the day was 80.981, and the low was 77.641, with the current price being 79.846. This represents a 2.31% increase in price since the open of 78.037. The base volume is 74422.317031 and the quote volume is 5891255.032640156. Based on these figures, it may be a good idea to consider going long on this trading pair.\n"
     ]
    }
   ],
   "source": [
    "fresh_data = refresh_tickers()\n",
    "token_analysis = {}\n",
    "for k, v in fresh_data.items():\n",
    "    analysis = chain.run(market_data=v)\n",
    "    token_analysis[k] = analysis\n",
    "    print(f\"{k}: {analysis}\")\n",
    "# chain.run(market_data=pairs[\"ADA/USDT\"])"
   ]
  },
  {
   "cell_type": "code",
   "execution_count": 16,
   "metadata": {},
   "outputs": [
    {
     "name": "stdout",
     "output_type": "stream",
     "text": [
      "{\n",
      "  \"BTC/USDT\": \"\\n\\nThe trading pair BTC/USDT has seen an increase of 0.3% over the past day, with the price rising from 27599.3 to 27684.2. The highest price of the day was 27844.0 and the lowest was 27353.0. The total volume of trading was 2803.3630943 and the total value of trading was 77373885.92232028. Based on this information, it is likely that BTC/USDT is in an upward trend and traders should look for buying opportunities.\",\n",
      "  \"ETH/USDT\": \"\\n\\nThe trading pair ETH/USDT has been steadily rising in recent weeks, with its high of 1861.9, low of 1831.2, and close of 1844.07. There has been an increase of 0.59 in the price and 0.03 in the percentage. The volume of trading has also been high, with a base volume of 16918.7582843 and a quote volume of 31214440.267887823. Based on this information, it appears that the market for ETH/USDT is bullish and could be a good opportunity for traders. As such, a market strategy that takes into account the current market conditions and the potential for future growth could be a profitable trading strategy.\",\n",
      "  \"ADA/USDT\": \"\\n\\nThe ADA/USDT trading pair has seen a steady rise in price over the past few months, with the high being 0.3675 and the low being 0.359903. The last price was 0.364469, which is 0.000404 higher than the previous close, representing a 0.11% increase. The volume of the pair is 8905672.961 and the quote volume is 3237985.1040978213.\\n\\nBased on the current trajectory, it may be wise to explore strategies such as buy-and-hold or trend trading. It is important to keep in mind that the market is unpredictable and to only enter trades with funds that you are willing to lose.\",\n",
      "  \"XRP/USDT\": \"\\n\\nThe XRP/USDT trading pair has been on an upward trajectory since the start of the year, with the high reaching 0.43381 and the low at 0.42036. The current bid and ask prices are 0.42974 and 0.42975, respectively. The trading pair has a percentage change of 1.55 and a base volume of 33164224.7882. Based on this information, it appears that the XRP/USDT pair is a good option for traders looking for a good return on their investment. As such, it would be wise to invest in this pair and take advantage of the current market conditions.\",\n",
      "  \"LTC/USDT\": \"\\n\\nThe trading pair of LTC/USDT has been trading in a generally upward trajectory. The high price for the day was 80.981, and the low was 77.641, with the current price being 79.846. This represents a 2.31% increase in price since the open of 78.037. The base volume is 74422.317031 and the quote volume is 5891255.032640156. Based on these figures, it may be a good idea to consider going long on this trading pair.\"\n",
      "}\n"
     ]
    }
   ],
   "source": [
    "import json\n",
    "print(json.dumps(token_analysis, indent=2))"
   ]
  },
  {
   "attachments": {},
   "cell_type": "markdown",
   "metadata": {},
   "source": [
    "**THis is amazing... now let's begin to teach it about market-making (scripts)**"
   ]
  },
  {
   "attachments": {},
   "cell_type": "markdown",
   "metadata": {},
   "source": [
    "parameter_dict = {\n",
    "    \n",
    "}"
   ]
  },
  {
   "attachments": {},
   "cell_type": "markdown",
   "metadata": {},
   "source": []
  },
  {
   "cell_type": "code",
   "execution_count": null,
   "metadata": {},
   "outputs": [],
   "source": []
  }
 ],
 "metadata": {
  "kernelspec": {
   "display_name": "kobot",
   "language": "python",
   "name": "python3"
  },
  "language_info": {
   "codemirror_mode": {
    "name": "ipython",
    "version": 3
   },
   "file_extension": ".py",
   "mimetype": "text/x-python",
   "name": "python",
   "nbconvert_exporter": "python",
   "pygments_lexer": "ipython3",
   "version": "3.10.11"
  },
  "orig_nbformat": 4
 },
 "nbformat": 4,
 "nbformat_minor": 2
}

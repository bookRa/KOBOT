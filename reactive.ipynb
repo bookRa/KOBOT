{
 "cells": [
  {
   "attachments": {},
   "cell_type": "markdown",
   "metadata": {},
   "source": [
    "# Hello Observable World!"
   ]
  },
  {
   "attachments": {},
   "cell_type": "markdown",
   "metadata": {},
   "source": [
    "https://rxpy.readthedocs.io/en/latest/get_started.html"
   ]
  },
  {
   "cell_type": "code",
   "execution_count": 7,
   "metadata": {},
   "outputs": [],
   "source": [
    "import reactivex\n",
    "from reactivex import of, create, operators as ops"
   ]
  },
  {
   "cell_type": "code",
   "execution_count": 9,
   "metadata": {},
   "outputs": [
    {
     "name": "stdout",
     "output_type": "stream",
     "text": [
      "Received Alpha\n",
      "Received Beta\n",
      "Received Gamma\n",
      "Received Delta\n",
      "Received Epsilon\n",
      "Done!\n"
     ]
    },
    {
     "data": {
      "text/plain": [
       "<reactivex.disposable.disposable.Disposable at 0x1034abd30>"
      ]
     },
     "execution_count": 9,
     "metadata": {},
     "output_type": "execute_result"
    }
   ],
   "source": [
    "def my_first_observable(observer, scheduler):\n",
    "    observer.on_next(\"Alpha\")\n",
    "    observer.on_next(\"Beta\")\n",
    "    observer.on_next(\"Gamma\")\n",
    "    observer.on_next(\"Delta\")\n",
    "    observer.on_next(\"Epsilon\")\n",
    "    observer.on_completed()\n",
    "    observer.on_error(Exception(\"ma bad\"))\n",
    "\n",
    "source = create(my_first_observable)\n",
    "\n",
    "source.subscribe(\n",
    "    on_next=lambda value: print(\"Received {0}\".format(value)),\n",
    "    on_error=lambda error: print(\"Error Occurred: {0}\".format(error)),\n",
    "    on_completed=lambda: print(\"Done!\"),\n",
    ")"
   ]
  },
  {
   "attachments": {},
   "cell_type": "markdown",
   "metadata": {},
   "source": [
    "## OK now it's time to bring in some market data\n",
    "### _ccxt_ is a sweet package for doing just that"
   ]
  },
  {
   "cell_type": "code",
   "execution_count": 5,
   "metadata": {},
   "outputs": [],
   "source": [
    "import ccxt\n",
    "from reactivex import of, operators as op\n",
    "\n",
    "exchange = ccxt.kucoin()\n",
    "exchange.load_markets()\n",
    "\n",
    "COINS_TO_WATCH = [\"BTC/USDT\", \"ETH/USDT\", \"ADA/USDT\", \"XRP/USDT\", \"LTC/USDT\"]\n",
    "\n",
    "def refresh_tickers():\n",
    "    source = of(*COINS_TO_WATCH)\n",
    "    composed = source.pipe(\n",
    "        op.map(lambda s: exchange.fetch_ticker(s)),\n",
    "    )\n",
    "    pairs = {}\n",
    "\n",
    "    def add_to_pairs(value):\n",
    "        pairs[value['symbol']] = value\n",
    "        print(f\"Received Value {value}!!\")\n",
    "        \n",
    "    composed.subscribe(\n",
    "        on_next=lambda value: add_to_pairs(value),\n",
    "        on_error=lambda error: print(f\"Error Occurred: {error}\"),\n",
    "        on_completed=lambda: print(\"Done!\"),\n",
    "    )\n",
    "    return pairs\n",
    "# .pipe(lambda x: exchange.fetch_ticker(x))"
   ]
  },
  {
   "attachments": {},
   "cell_type": "markdown",
   "metadata": {},
   "source": [
    "### Sweet! So now we have to work each of those JSON bodies into a prompt for GPT to give us a breakdown of what's going on"
   ]
  },
  {
   "cell_type": "code",
   "execution_count": 31,
   "metadata": {},
   "outputs": [
    {
     "name": "stderr",
     "output_type": "stream",
     "text": [
      "Retrying langchain.llms.openai.completion_with_retry.<locals>._completion_with_retry in 4.0 seconds as it raised APIConnectionError: Error communicating with OpenAI: ('Connection aborted.', RemoteDisconnected('Remote end closed connection without response')).\n"
     ]
    },
    {
     "name": "stdout",
     "output_type": "stream",
     "text": [
      "\n",
      "\n",
      "The trading pair for ADA/USDT has seen some recent volatility, as the high for the pair was 0.3675 and the low was 0.359903. The last price for the pair was 0.364827, which is a 0.43% decrease from the open price of 0.36641. Based on the current market conditions, this could indicate a bearish trajectory for the pair. Market strategy should take into consideration the current volatility and focus on bearish strategies in order to maximize potential profits.\n"
     ]
    }
   ],
   "source": [
    "import os\n",
    "from dotenv import load_dotenv\n",
    "import json\n",
    "import yaml\n",
    "from langchain.llms import OpenAI\n",
    "from langchain.prompts import PromptTemplate\n",
    "\n",
    "\n",
    "load_dotenv()\n",
    "\n",
    "oai_org = \"org-VAzYa2yfTTttUMNvCBhluUKn\"\n",
    "oai_key = os.getenv(\"OPENAI_API_KEY\")\n",
    "\n",
    "gpt = OpenAI(temperature=0.9)\n",
    "market_prompt = (\"give a high-level human summary about the trajectory of the\"\n",
    "    + \" trading pair, as well as any more info you need to suggest a \"\n",
    "    + \"market strategy:\\n::::\\n {market_data}\")\n",
    "market_data = pairs[\"ADA/USDT\"]\n",
    "market_prompt += json.dumps(market_data)\n",
    "print(gpt(market_prompt))\n",
    "# prompt = PromptTemplate(\n",
    "#     input_variables=['product'],\n",
    "#     template=\"WHat is a good name for a company that makes {}?\"\n",
    "# )\n",
    "# foo = prompt.format(product=\"socks\")\n",
    "# print(foo)\n",
    "# gpt = OpenAI(openai_api_key=oai_key, openai_organization=oai_org, temperature=0.9)\n",
    "# text = \"What would be a good company name for a company that makes colorful socks?\"\n",
    "# print(gpt(text))"
   ]
  },
  {
   "attachments": {},
   "cell_type": "markdown",
   "metadata": {},
   "source": [
    "## THis is awesome, now let's try to apply the _PromptTemplate_ Module to organize all these prompts"
   ]
  },
  {
   "cell_type": "code",
   "execution_count": 1,
   "metadata": {},
   "outputs": [],
   "source": [
    "from langchain.prompts import PromptTemplate\n",
    "from langchain.chains import LLMChain\n",
    "from langchain.llms import OpenAI\n",
    "\n",
    "gpt = OpenAI(temperature=0.75)\n",
    "prompt_txt = (\n",
    "    \"give a high-level human summary about the trajectory of the\" +\n",
    "    \" trading pair, as well as any more info you need to suggest a \" +\n",
    "    \"market strategy:\\n::::\\n {market_data}\")\n",
    "\n",
    "lvl_1_market_prompt = PromptTemplate(\n",
    "    input_variables=['market_data'],\n",
    "    template=prompt_txt\n",
    ")\n",
    "\n",
    "chain = LLMChain(llm = gpt, prompt=lvl_1_market_prompt)\n"
   ]
  },
  {
   "attachments": {},
   "cell_type": "markdown",
   "metadata": {},
   "source": [
    "__And now the secret sauce: composing all the tickers together!__"
   ]
  },
  {
   "cell_type": "code",
   "execution_count": 6,
   "metadata": {},
   "outputs": [
    {
     "name": "stdout",
     "output_type": "stream",
     "text": [
      "Received Value {'symbol': 'BTC/USDT', 'timestamp': 1683690680218, 'datetime': '2023-05-10T03:51:20.218Z', 'high': 27844.0, 'low': 27353.0, 'bid': 27692.3, 'bidVolume': None, 'ask': 27692.4, 'askVolume': None, 'vwap': 27600.36787936475, 'open': 27586.0, 'close': 27692.4, 'last': 27692.4, 'previousClose': None, 'change': 106.4, 'percentage': 0.38, 'average': 27571.00118449, 'baseVolume': 2803.58256862, 'quoteVolume': 77379910.27408636, 'info': {'time': 1683690680218, 'symbol': 'BTC-USDT', 'buy': '27692.3', 'sell': '27692.4', 'changeRate': '0.0038', 'changePrice': '106.4', 'high': '27844', 'low': '27353', 'vol': '2803.58256862', 'volValue': '77379910.27408636', 'last': '27692.4', 'averagePrice': '27571.00118449', 'takerFeeRate': '0.001', 'makerFeeRate': '0.001', 'takerCoefficient': '1', 'makerCoefficient': '1'}}!!\n",
      "Received Value {'symbol': 'ETH/USDT', 'timestamp': 1683690680132, 'datetime': '2023-05-10T03:51:20.132Z', 'high': 1861.9, 'low': 1831.2, 'bid': 1844.37, 'bidVolume': None, 'ask': 1844.38, 'askVolume': None, 'vwap': 1844.9603659452564, 'open': 1842.43, 'close': 1844.37, 'last': 1844.37, 'previousClose': None, 'change': 1.94, 'percentage': 0.1, 'average': 1839.93417619, 'baseVolume': 16914.4940119, 'quoteVolume': 31206571.061973874, 'info': {'time': 1683690680132, 'symbol': 'ETH-USDT', 'buy': '1844.37', 'sell': '1844.38', 'changeRate': '0.001', 'changePrice': '1.94', 'high': '1861.9', 'low': '1831.2', 'vol': '16914.4940119', 'volValue': '31206571.061973873', 'last': '1844.37', 'averagePrice': '1839.93417619', 'takerFeeRate': '0.001', 'makerFeeRate': '0.001', 'takerCoefficient': '1', 'makerCoefficient': '1'}}!!\n",
      "Received Value {'symbol': 'ADA/USDT', 'timestamp': 1683690680007, 'datetime': '2023-05-10T03:51:20.007Z', 'high': 0.3675, 'low': 0.359903, 'bid': 0.364276, 'bidVolume': None, 'ask': 0.364277, 'askVolume': None, 'vwap': 0.36358688021438607, 'open': 0.364152, 'close': 0.364432, 'last': 0.364432, 'previousClose': None, 'change': 0.00028, 'percentage': 0.07, 'average': 0.36324047, 'baseVolume': 8907212.9369, 'quoteVolume': 3238545.76313269, 'info': {'time': 1683690680007, 'symbol': 'ADA-USDT', 'buy': '0.364276', 'sell': '0.364277', 'changeRate': '0.0007', 'changePrice': '0.00028', 'high': '0.3675', 'low': '0.359903', 'vol': '8907212.9369', 'volValue': '3238545.7631326901', 'last': '0.364432', 'averagePrice': '0.36324047', 'takerFeeRate': '0.001', 'makerFeeRate': '0.001', 'takerCoefficient': '1', 'makerCoefficient': '1'}}!!\n",
      "Received Value {'symbol': 'XRP/USDT', 'timestamp': 1683690680214, 'datetime': '2023-05-10T03:51:20.214Z', 'high': 0.43381, 'low': 0.42036, 'bid': 0.42981, 'bidVolume': None, 'ask': 0.42982, 'askVolume': None, 'vwap': 0.42583472734395855, 'open': 0.42321, 'close': 0.42982, 'last': 0.42982, 'previousClose': None, 'change': 0.00661, 'percentage': 1.56, 'average': 0.42321673, 'baseVolume': 33100141.9956, 'quoteVolume': 14095189.941742638, 'info': {'time': 1683690680214, 'symbol': 'XRP-USDT', 'buy': '0.42981', 'sell': '0.42982', 'changeRate': '0.0156', 'changePrice': '0.00661', 'high': '0.43381', 'low': '0.42036', 'vol': '33100141.9956', 'volValue': '14095189.941742639', 'last': '0.42982', 'averagePrice': '0.42321673', 'takerFeeRate': '0.001', 'makerFeeRate': '0.001', 'takerCoefficient': '1', 'makerCoefficient': '1'}}!!\n",
      "Received Value {'symbol': 'LTC/USDT', 'timestamp': 1683690680202, 'datetime': '2023-05-10T03:51:20.202Z', 'high': 80.981, 'low': 77.641, 'bid': 79.798, 'bidVolume': None, 'ask': 79.799, 'askVolume': None, 'vwap': 79.15936647190203, 'open': 78.026, 'close': 79.814, 'last': 79.814, 'previousClose': None, 'change': 1.788, 'percentage': 2.29, 'average': 78.21943827, 'baseVolume': 74431.935131, 'quoteVolume': 5891984.830247668, 'info': {'time': 1683690680202, 'symbol': 'LTC-USDT', 'buy': '79.798', 'sell': '79.799', 'changeRate': '0.0229', 'changePrice': '1.788', 'high': '80.981', 'low': '77.641', 'vol': '74431.935131', 'volValue': '5891984.830247668', 'last': '79.814', 'averagePrice': '78.21943827', 'takerFeeRate': '0.001', 'makerFeeRate': '0.001', 'takerCoefficient': '1', 'makerCoefficient': '1'}}!!\n",
      "Done!\n",
      "BTC/USDT: {'symbol': 'BTC/USDT', 'timestamp': 1683690680218, 'datetime': '2023-05-10T03:51:20.218Z', 'high': 27844.0, 'low': 27353.0, 'bid': 27692.3, 'bidVolume': None, 'ask': 27692.4, 'askVolume': None, 'vwap': 27600.36787936475, 'open': 27586.0, 'close': 27692.4, 'last': 27692.4, 'previousClose': None, 'change': 106.4, 'percentage': 0.38, 'average': 27571.00118449, 'baseVolume': 2803.58256862, 'quoteVolume': 77379910.27408636, 'info': {'time': 1683690680218, 'symbol': 'BTC-USDT', 'buy': '27692.3', 'sell': '27692.4', 'changeRate': '0.0038', 'changePrice': '106.4', 'high': '27844', 'low': '27353', 'vol': '2803.58256862', 'volValue': '77379910.27408636', 'last': '27692.4', 'averagePrice': '27571.00118449', 'takerFeeRate': '0.001', 'makerFeeRate': '0.001', 'takerCoefficient': '1', 'makerCoefficient': '1'}}\n",
      "ETH/USDT: {'symbol': 'ETH/USDT', 'timestamp': 1683690680132, 'datetime': '2023-05-10T03:51:20.132Z', 'high': 1861.9, 'low': 1831.2, 'bid': 1844.37, 'bidVolume': None, 'ask': 1844.38, 'askVolume': None, 'vwap': 1844.9603659452564, 'open': 1842.43, 'close': 1844.37, 'last': 1844.37, 'previousClose': None, 'change': 1.94, 'percentage': 0.1, 'average': 1839.93417619, 'baseVolume': 16914.4940119, 'quoteVolume': 31206571.061973874, 'info': {'time': 1683690680132, 'symbol': 'ETH-USDT', 'buy': '1844.37', 'sell': '1844.38', 'changeRate': '0.001', 'changePrice': '1.94', 'high': '1861.9', 'low': '1831.2', 'vol': '16914.4940119', 'volValue': '31206571.061973873', 'last': '1844.37', 'averagePrice': '1839.93417619', 'takerFeeRate': '0.001', 'makerFeeRate': '0.001', 'takerCoefficient': '1', 'makerCoefficient': '1'}}\n",
      "ADA/USDT: {'symbol': 'ADA/USDT', 'timestamp': 1683690680007, 'datetime': '2023-05-10T03:51:20.007Z', 'high': 0.3675, 'low': 0.359903, 'bid': 0.364276, 'bidVolume': None, 'ask': 0.364277, 'askVolume': None, 'vwap': 0.36358688021438607, 'open': 0.364152, 'close': 0.364432, 'last': 0.364432, 'previousClose': None, 'change': 0.00028, 'percentage': 0.07, 'average': 0.36324047, 'baseVolume': 8907212.9369, 'quoteVolume': 3238545.76313269, 'info': {'time': 1683690680007, 'symbol': 'ADA-USDT', 'buy': '0.364276', 'sell': '0.364277', 'changeRate': '0.0007', 'changePrice': '0.00028', 'high': '0.3675', 'low': '0.359903', 'vol': '8907212.9369', 'volValue': '3238545.7631326901', 'last': '0.364432', 'averagePrice': '0.36324047', 'takerFeeRate': '0.001', 'makerFeeRate': '0.001', 'takerCoefficient': '1', 'makerCoefficient': '1'}}\n",
      "XRP/USDT: {'symbol': 'XRP/USDT', 'timestamp': 1683690680214, 'datetime': '2023-05-10T03:51:20.214Z', 'high': 0.43381, 'low': 0.42036, 'bid': 0.42981, 'bidVolume': None, 'ask': 0.42982, 'askVolume': None, 'vwap': 0.42583472734395855, 'open': 0.42321, 'close': 0.42982, 'last': 0.42982, 'previousClose': None, 'change': 0.00661, 'percentage': 1.56, 'average': 0.42321673, 'baseVolume': 33100141.9956, 'quoteVolume': 14095189.941742638, 'info': {'time': 1683690680214, 'symbol': 'XRP-USDT', 'buy': '0.42981', 'sell': '0.42982', 'changeRate': '0.0156', 'changePrice': '0.00661', 'high': '0.43381', 'low': '0.42036', 'vol': '33100141.9956', 'volValue': '14095189.941742639', 'last': '0.42982', 'averagePrice': '0.42321673', 'takerFeeRate': '0.001', 'makerFeeRate': '0.001', 'takerCoefficient': '1', 'makerCoefficient': '1'}}\n",
      "LTC/USDT: {'symbol': 'LTC/USDT', 'timestamp': 1683690680202, 'datetime': '2023-05-10T03:51:20.202Z', 'high': 80.981, 'low': 77.641, 'bid': 79.798, 'bidVolume': None, 'ask': 79.799, 'askVolume': None, 'vwap': 79.15936647190203, 'open': 78.026, 'close': 79.814, 'last': 79.814, 'previousClose': None, 'change': 1.788, 'percentage': 2.29, 'average': 78.21943827, 'baseVolume': 74431.935131, 'quoteVolume': 5891984.830247668, 'info': {'time': 1683690680202, 'symbol': 'LTC-USDT', 'buy': '79.798', 'sell': '79.799', 'changeRate': '0.0229', 'changePrice': '1.788', 'high': '80.981', 'low': '77.641', 'vol': '74431.935131', 'volValue': '5891984.830247668', 'last': '79.814', 'averagePrice': '78.21943827', 'takerFeeRate': '0.001', 'makerFeeRate': '0.001', 'takerCoefficient': '1', 'makerCoefficient': '1'}}\n"
     ]
    }
   ],
   "source": [
    "fresh_data = refresh_tickers()\n",
    "token_analysis = {}\n",
    "for k, v in fresh_data.items():\n",
    "    analysis = chain.run(market_data=v)\n",
    "    token_analysis[k] = analysis\n",
    "    print(f\"{k}: {analysis}\")\n",
    "# chain.run(market_data=pairs[\"ADA/USDT\"])"
   ]
  },
  {
   "cell_type": "code",
   "execution_count": null,
   "metadata": {},
   "outputs": [],
   "source": []
  },
  {
   "attachments": {},
   "cell_type": "markdown",
   "metadata": {},
   "source": []
  },
  {
   "cell_type": "code",
   "execution_count": null,
   "metadata": {},
   "outputs": [],
   "source": []
  }
 ],
 "metadata": {
  "kernelspec": {
   "display_name": "kobot",
   "language": "python",
   "name": "python3"
  },
  "language_info": {
   "codemirror_mode": {
    "name": "ipython",
    "version": 3
   },
   "file_extension": ".py",
   "mimetype": "text/x-python",
   "name": "python",
   "nbconvert_exporter": "python",
   "pygments_lexer": "ipython3",
   "version": "3.10.11"
  },
  "orig_nbformat": 4
 },
 "nbformat": 4,
 "nbformat_minor": 2
}

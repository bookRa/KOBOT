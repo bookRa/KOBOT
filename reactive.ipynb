{
 "cells": [
  {
   "attachments": {},
   "cell_type": "markdown",
   "metadata": {},
   "source": [
    "# Hello Observable World!"
   ]
  },
  {
   "attachments": {},
   "cell_type": "markdown",
   "metadata": {},
   "source": [
    "https://rxpy.readthedocs.io/en/latest/get_started.html"
   ]
  },
  {
   "cell_type": "code",
   "execution_count": 7,
   "metadata": {},
   "outputs": [],
   "source": [
    "import reactivex\n",
    "from reactivex import of, create, operators as ops"
   ]
  },
  {
   "cell_type": "code",
   "execution_count": 9,
   "metadata": {},
   "outputs": [
    {
     "name": "stdout",
     "output_type": "stream",
     "text": [
      "Received Alpha\n",
      "Received Beta\n",
      "Received Gamma\n",
      "Received Delta\n",
      "Received Epsilon\n",
      "Done!\n"
     ]
    },
    {
     "data": {
      "text/plain": [
       "<reactivex.disposable.disposable.Disposable at 0x1034abd30>"
      ]
     },
     "execution_count": 9,
     "metadata": {},
     "output_type": "execute_result"
    }
   ],
   "source": [
    "def my_first_observable(observer, scheduler):\n",
    "    observer.on_next(\"Alpha\")\n",
    "    observer.on_next(\"Beta\")\n",
    "    observer.on_next(\"Gamma\")\n",
    "    observer.on_next(\"Delta\")\n",
    "    observer.on_next(\"Epsilon\")\n",
    "    observer.on_completed()\n",
    "    observer.on_error(Exception(\"ma bad\"))\n",
    "\n",
    "source = create(my_first_observable)\n",
    "\n",
    "source.subscribe(\n",
    "    on_next=lambda value: print(\"Received {0}\".format(value)),\n",
    "    on_error=lambda error: print(\"Error Occurred: {0}\".format(error)),\n",
    "    on_completed=lambda: print(\"Done!\"),\n",
    ")"
   ]
  },
  {
   "attachments": {},
   "cell_type": "markdown",
   "metadata": {},
   "source": [
    "## OK now it's time to bring in some market data\n",
    "### _ccxt_ is a sweet package for doing just that"
   ]
  },
  {
   "cell_type": "code",
   "execution_count": 17,
   "metadata": {},
   "outputs": [
    {
     "name": "stdout",
     "output_type": "stream",
     "text": [
      "Received Value {'symbol': 'BTC/USDT', 'timestamp': 1683487274141, 'datetime': '2023-05-07T19:21:14.141Z', 'high': 29139.3, 'low': 28642.5, 'bid': 28846.7, 'bidVolume': None, 'ask': 28846.8, 'askVolume': None, 'vwap': 28888.625625282348, 'open': 28855.1, 'close': 28846.7, 'last': 28846.7, 'previousClose': None, 'change': -8.4, 'percentage': -0.02, 'average': 28858.55592703, 'baseVolume': 2151.91181351, 'quoteVolume': 62165774.75911279, 'info': {'time': 1683487274141, 'symbol': 'BTC-USDT', 'buy': '28846.7', 'sell': '28846.8', 'changeRate': '-0.0002', 'changePrice': '-8.4', 'high': '29139.3', 'low': '28642.5', 'vol': '2151.91181351', 'volValue': '62165774.759112791', 'last': '28846.7', 'averagePrice': '28858.55592703', 'takerFeeRate': '0.001', 'makerFeeRate': '0.001', 'takerCoefficient': '1', 'makerCoefficient': '1'}}!!\n",
      "Received Value {'symbol': 'ETH/USDT', 'timestamp': 1683487274127, 'datetime': '2023-05-07T19:21:14.127Z', 'high': 1933.29, 'low': 1884.73, 'bid': 1909.3, 'bidVolume': None, 'ask': 1909.31, 'askVolume': None, 'vwap': 1906.551147786923, 'open': 1897.84, 'close': 1909.3, 'last': 1909.3, 'previousClose': None, 'change': 11.46, 'percentage': 0.6, 'average': 1901.99232451, 'baseVolume': 20388.703568, 'quoteVolume': 38872106.18945773, 'info': {'time': 1683487274127, 'symbol': 'ETH-USDT', 'buy': '1909.3', 'sell': '1909.31', 'changeRate': '0.006', 'changePrice': '11.46', 'high': '1933.29', 'low': '1884.73', 'vol': '20388.703568', 'volValue': '38872106.189457729', 'last': '1909.3', 'averagePrice': '1901.99232451', 'takerFeeRate': '0.001', 'makerFeeRate': '0.001', 'takerCoefficient': '1', 'makerCoefficient': '1'}}!!\n",
      "Received Value {'symbol': 'ADA/USDT', 'timestamp': 1683487274005, 'datetime': '2023-05-07T19:21:14.005Z', 'high': 0.38335, 'low': 0.377553, 'bid': 0.378836, 'bidVolume': None, 'ask': 0.378877, 'askVolume': None, 'vwap': 0.3803123184904719, 'open': 0.380862, 'close': 0.378832, 'last': 0.378832, 'previousClose': None, 'change': -0.00203, 'percentage': -0.53, 'average': 0.38024915, 'baseVolume': 5736415.728, 'quoteVolume': 2181629.565340888, 'info': {'time': 1683487274005, 'symbol': 'ADA-USDT', 'buy': '0.378836', 'sell': '0.378877', 'changeRate': '-0.0053', 'changePrice': '-0.00203', 'high': '0.38335', 'low': '0.377553', 'vol': '5736415.728', 'volValue': '2181629.5653408884', 'last': '0.378832', 'averagePrice': '0.38024915', 'takerFeeRate': '0.001', 'makerFeeRate': '0.001', 'takerCoefficient': '1', 'makerCoefficient': '1'}}!!\n",
      "Received Value {'symbol': 'XRP/USDT', 'timestamp': 1683487274216, 'datetime': '2023-05-07T19:21:14.216Z', 'high': 0.46031, 'low': 0.45466, 'bid': 0.45604, 'bidVolume': None, 'ask': 0.45605, 'askVolume': None, 'vwap': 0.457547626201889, 'open': 0.45751, 'close': 0.45612, 'last': 0.45612, 'previousClose': None, 'change': -0.00139, 'percentage': -0.3, 'average': 0.45744317, 'baseVolume': 15718824.2758, 'quoteVolume': 7192110.734076917, 'info': {'time': 1683487274216, 'symbol': 'XRP-USDT', 'buy': '0.45604', 'sell': '0.45605', 'changeRate': '-0.003', 'changePrice': '-0.00139', 'high': '0.46031', 'low': '0.45466', 'vol': '15718824.2758', 'volValue': '7192110.734076917', 'last': '0.45612', 'averagePrice': '0.45744317', 'takerFeeRate': '0.001', 'makerFeeRate': '0.001', 'takerCoefficient': '1', 'makerCoefficient': '1'}}!!\n",
      "Received Value {'symbol': 'LTC/USDT', 'timestamp': 1683487274123, 'datetime': '2023-05-07T19:21:14.123Z', 'high': 84.462, 'low': 82.867, 'bid': 84.111, 'bidVolume': None, 'ask': 84.112, 'askVolume': None, 'vwap': 83.71586774722994, 'open': 83.601, 'close': 84.112, 'last': 84.112, 'previousClose': None, 'change': 0.511, 'percentage': 0.61, 'average': 83.49970878, 'baseVolume': 49348.156489, 'quoteVolume': 4131223.742202731, 'info': {'time': 1683487274123, 'symbol': 'LTC-USDT', 'buy': '84.111', 'sell': '84.112', 'changeRate': '0.0061', 'changePrice': '0.511', 'high': '84.462', 'low': '82.867', 'vol': '49348.156489', 'volValue': '4131223.742202731', 'last': '84.112', 'averagePrice': '83.49970878', 'takerFeeRate': '0.001', 'makerFeeRate': '0.001', 'takerCoefficient': '1', 'makerCoefficient': '1'}}!!\n",
      "Done!\n"
     ]
    },
    {
     "data": {
      "text/plain": [
       "<reactivex.disposable.disposable.Disposable at 0x11a8efbe0>"
      ]
     },
     "execution_count": 17,
     "metadata": {},
     "output_type": "execute_result"
    }
   ],
   "source": [
    "import ccxt\n",
    "from reactivex import of, operators as op\n",
    "\n",
    "exchange = ccxt.kucoin()\n",
    "exchange.load_markets()\n",
    "\n",
    "COINS_TO_WATCH = [\"BTC/USDT\", \"ETH/USDT\", \"ADA/USDT\", \"XRP/USDT\", \"LTC/USDT\"]\n",
    "\n",
    "source = of(*COINS_TO_WATCH)\n",
    "composed = source.pipe(\n",
    "    op.map(lambda s: exchange.fetch_ticker(s)),\n",
    ")\n",
    "\n",
    "composed.subscribe(\n",
    "    on_next=lambda value: print(f\"Received Value {value}!!\"),\n",
    "    on_error=lambda error: print(f\"Error Occurred: {error}\"),\n",
    "    on_completed=lambda: print(\"Done!\"),\n",
    ")\n",
    "# .pipe(lambda x: exchange.fetch_ticker(x))"
   ]
  },
  {
   "attachments": {},
   "cell_type": "markdown",
   "metadata": {},
   "source": [
    "### Sweet! So now we have to work each of those JSON bodies into a prompt for GPT to give us a breakdown of what's going on"
   ]
  },
  {
   "cell_type": "code",
   "execution_count": 21,
   "metadata": {},
   "outputs": [
    {
     "name": "stdout",
     "output_type": "stream",
     "text": [
      "\n",
      "\n",
      "ColorfulCo Socks.\n"
     ]
    }
   ],
   "source": [
    "import os\n",
    "from dotenv import load_dotenv\n",
    "import json\n",
    "import yaml\n",
    "from langchain.llms import OpenAI\n",
    "\n",
    "load_dotenv()\n",
    "\n",
    "oai_org = \"org-VAzYa2yfTTttUMNvCBhluUKn\"\n",
    "oai_key = os.getenv(\"OPENAI_API_KEY\")\n",
    "\n",
    "gpt = OpenAI(openai_api_key=oai_key, openai_organization=oai_org, temperature=0.9)\n",
    "text = \"What would be a good company name for a company that makes colorful socks?\"\n",
    "print(gpt(text))"
   ]
  },
  {
   "cell_type": "code",
   "execution_count": null,
   "metadata": {},
   "outputs": [],
   "source": []
  },
  {
   "cell_type": "code",
   "execution_count": null,
   "metadata": {},
   "outputs": [],
   "source": []
  },
  {
   "cell_type": "code",
   "execution_count": null,
   "metadata": {},
   "outputs": [],
   "source": []
  },
  {
   "cell_type": "markdown",
   "metadata": {},
   "source": []
  },
  {
   "cell_type": "code",
   "execution_count": null,
   "metadata": {},
   "outputs": [],
   "source": []
  }
 ],
 "metadata": {
  "kernelspec": {
   "display_name": "kobot",
   "language": "python",
   "name": "python3"
  },
  "language_info": {
   "codemirror_mode": {
    "name": "ipython",
    "version": 3
   },
   "file_extension": ".py",
   "mimetype": "text/x-python",
   "name": "python",
   "nbconvert_exporter": "python",
   "pygments_lexer": "ipython3",
   "version": "3.10.11"
  },
  "orig_nbformat": 4
 },
 "nbformat": 4,
 "nbformat_minor": 2
}
